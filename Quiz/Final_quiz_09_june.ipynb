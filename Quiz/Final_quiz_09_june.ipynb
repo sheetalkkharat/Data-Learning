{
 "cells": [
  {
   "cell_type": "code",
   "execution_count": 1,
   "metadata": {},
   "outputs": [
    {
     "name": "stdout",
     "output_type": "stream",
     "text": [
      "sam\n",
      "80\n",
      "2.8\n",
      "bye bye\n",
      "11\n",
      "13\n",
      "15\n",
      "17\n",
      "19\n",
      "28\n",
      "31\n",
      "34\n",
      "37\n",
      "40\n",
      "43\n",
      "46\n"
     ]
    }
   ],
   "source": [
    "import pandas as pd\n",
    "import numpy as np\n",
    "import scipy.stats as stats\n",
    "from sklearn.feature_selection import chi2\n",
    "from sklearn.preprocessing import LabelEncoder\n",
    "import scipy.integrate as integrate\n",
    "from sklearn.linear_model import  LogisticRegression\n",
    "import matplotlib.pyplot as plt"
   ]
  },
  {
   "cell_type": "code",
   "execution_count": 2,
   "metadata": {},
   "outputs": [
    {
     "name": "stdout",
     "output_type": "stream",
     "text": [
      "0.5 0.7674886808696214 5.050329057632646\n"
     ]
    }
   ],
   "source": [
    "#F-Statistic\n",
    "grp1 = [14,24,18,14,22,17]\n",
    "grp2 = [2,8,10,5,8,3]\n",
    "grp1_var = 4\n",
    "grp2_var = 8\n",
    "alpha = 0.05\n",
    "f1_val = grp1_var/grp2_var\n",
    "grp1_df = len(grp1) - 1\n",
    "grp2_df = len(grp2) - 1\n",
    "p_val = 1- stats.f.cdf(f1_val,grp1_df,grp2_df)\n",
    "f_crtical_val = stats.f.ppf(1 - alpha, grp1_df, grp2_df)\n",
    "print(f1_val,p_val,f_crtical_val)"
   ]
  },
  {
   "cell_type": "code",
   "execution_count": null,
   "metadata": {},
   "outputs": [],
   "source": [
    "word = \"occurrence\"\n",
    "for itr in ran"
   ]
  },
  {
   "cell_type": "code",
   "execution_count": 3,
   "metadata": {},
   "outputs": [
    {
     "name": "stdout",
     "output_type": "stream",
     "text": [
      "Eigenvalues of A: [ 2.  1. -5. -3.]\n"
     ]
    }
   ],
   "source": [
    "import numpy as np\n",
    "\n",
    "A = np.array([\n",
    "    [-8, -1, 4, 6],\n",
    "    [-10, 1, 4, 6],\n",
    "    [-5, -1, 1, 6],\n",
    "    [-3, -1, 4, 1]\n",
    "])\n",
    "\n",
    "eigenvalues, _ = np.linalg.eig(A)\n",
    "print(\"Eigenvalues of A:\", eigenvalues)\n"
   ]
  },
  {
   "cell_type": "code",
   "execution_count": 4,
   "metadata": {},
   "outputs": [
    {
     "name": "stdout",
     "output_type": "stream",
     "text": [
      "Sum of eigenvalues of A: -5.0\n"
     ]
    }
   ],
   "source": [
    "sum_eigenvalues = sum(eigenvalues)\n",
    "print(\"Sum of eigenvalues of A:\", sum_eigenvalues)\n"
   ]
  },
  {
   "cell_type": "code",
   "execution_count": null,
   "metadata": {},
   "outputs": [],
   "source": []
  }
 ],
 "metadata": {
  "kernelspec": {
   "display_name": "Python 3",
   "language": "python",
   "name": "python3"
  },
  "language_info": {
   "codemirror_mode": {
    "name": "ipython",
    "version": 3
   },
   "file_extension": ".py",
   "mimetype": "text/x-python",
   "name": "python",
   "nbconvert_exporter": "python",
   "pygments_lexer": "ipython3",
   "version": "3.7.1"
  }
 },
 "nbformat": 4,
 "nbformat_minor": 4
}
