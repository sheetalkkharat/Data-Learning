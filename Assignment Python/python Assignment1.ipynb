{
 "cells": [
  {
   "cell_type": "markdown",
   "metadata": {},
   "source": [
    "# 1. Input the values of a and b as 10 and 20 respectively. Now check if a isgreater or b is greater using if condition. Think about all the edge cases,and print the statements accordingly.\n"
   ]
  },
  {
   "cell_type": "code",
   "execution_count": 3,
   "metadata": {},
   "outputs": [
    {
     "name": "stdout",
     "output_type": "stream",
     "text": [
      "Enter the value for a : 10\n",
      "Enter the value for b : 20\n",
      "a is smaller than b\n"
     ]
    }
   ],
   "source": [
    "# Assigning the values directly to variables:\n",
    "\n",
    "a= 10\n",
    "b= 20\n",
    "if a > b:\n",
    "    print (\" a is greater than b\")\n",
    "elif a==b:\n",
    "    print (\"a is equal to b\")\n",
    "else:\n",
    "    print(\"a is smaller than b\")\n",
    "    "
   ]
  },
  {
   "cell_type": "code",
   "execution_count": null,
   "metadata": {},
   "outputs": [],
   "source": [
    "# Assigning the values through taking input:\n",
    "\n",
    "a= int(input(\"Enter the value for a : \"))\n",
    "b= int(input (\"Enter the value for b : \"))\n",
    "if a > b:\n",
    "    print (\" a is greater than b\")\n",
    "elif a==b:\n",
    "    print (\"a is equal to b\")\n",
    "else:\n",
    "    print(\"a is smaller than b\")\n",
    "    "
   ]
  },
  {
   "cell_type": "code",
   "execution_count": null,
   "metadata": {},
   "outputs": [],
   "source": []
  }
 ],
 "metadata": {
  "kernelspec": {
   "display_name": "Python 3",
   "language": "python",
   "name": "python3"
  },
  "language_info": {
   "codemirror_mode": {
    "name": "ipython",
    "version": 3
   },
   "file_extension": ".py",
   "mimetype": "text/x-python",
   "name": "python",
   "nbconvert_exporter": "python",
   "pygments_lexer": "ipython3",
   "version": "3.7.1"
  }
 },
 "nbformat": 4,
 "nbformat_minor": 4
}
