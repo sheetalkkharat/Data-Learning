{
 "cells": [
  {
   "cell_type": "markdown",
   "metadata": {},
   "source": [
    "# Take three user inputs and print the greatest number from those inputs using if-else condition. Edge cases, if any, should also be handled."
   ]
  },
  {
   "cell_type": "code",
   "execution_count": 1,
   "metadata": {},
   "outputs": [
    {
     "name": "stdout",
     "output_type": "stream",
     "text": [
      "Enter the value for a : 10\n",
      "Enter the value for b : 20\n",
      "Enter the value for c : 30\n",
      " c is greatest Number\n"
     ]
    }
   ],
   "source": [
    "a= int(input(\"Enter the value for a : \"))\n",
    "b= int(input (\"Enter the value for b : \"))\n",
    "c= int(input (\"Enter the value for c : \"))\n",
    "if a > b and a > c:\n",
    "    print (\" a is greatest Number\")\n",
    "elif b > a and b > c:\n",
    "    print (\" b is greatest Number\")\n",
    "else:\n",
    "    print(\" c is greatest Number\")"
   ]
  },
  {
   "cell_type": "code",
   "execution_count": null,
   "metadata": {},
   "outputs": [],
   "source": []
  }
 ],
 "metadata": {
  "kernelspec": {
   "display_name": "Python 3",
   "language": "python",
   "name": "python3"
  },
  "language_info": {
   "codemirror_mode": {
    "name": "ipython",
    "version": 3
   },
   "file_extension": ".py",
   "mimetype": "text/x-python",
   "name": "python",
   "nbconvert_exporter": "python",
   "pygments_lexer": "ipython3",
   "version": "3.7.1"
  }
 },
 "nbformat": 4,
 "nbformat_minor": 4
}
