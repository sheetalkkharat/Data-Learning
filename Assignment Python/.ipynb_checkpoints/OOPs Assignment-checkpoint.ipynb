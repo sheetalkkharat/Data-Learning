{
 "cells": [
  {
   "cell_type": "markdown",
   "metadata": {},
   "source": [
    "Q1. Write a Python program to demonstrate multiple inheritance.\n",
    "1. Employee class has 3 data members EmployeeID, Gender (String), Salary and\n",
    "PerformanceRating(Out of 5) of type int. It has a get() function to get these details from\n",
    "the user"
   ]
  },
  {
   "cell_type": "code",
   "execution_count": null,
   "metadata": {},
   "outputs": [],
   "source": [
    "class Employee:\n",
    "    def __init__(self):\n",
    "        self.EmployeeID = 0\n",
    "        self.Gender = \"\"\n",
    "        self.Salary = 0\n",
    "        self.PerformanceRating = 0\n",
    "        \n",
    "        \n",
    "    def get(self):\n",
    "        self.EmployeeID = int(input(\"Enter Employee ID: \"))\n",
    "        self.Gender = input(\"Enter Gender: \")\n",
    "        self.Salary = int(input(\"Enter Salary: \"))\n",
    "        self.PerformanceRating = float(input(\"Enter Performance Rating (out of 5): \"))\n",
    "\n",
    "    def disp(self):\n",
    "        print(\"Employee ID:\", employee1.EmployeeID)\n",
    "        print(\"Gender:\", employee1.Gender)\n",
    "        print(\"Salary:\", employee1.Salary)\n",
    "        print(\"Performance Rating:\", employee1.PerformanceRating)"
   ]
  },
  {
   "cell_type": "code",
   "execution_count": null,
   "metadata": {},
   "outputs": [],
   "source": [
    "employee1 = Employee()\n",
    "employee1.get()\n"
   ]
  },
  {
   "cell_type": "markdown",
   "metadata": {},
   "source": [
    "                                                "
   ]
  },
  {
   "cell_type": "markdown",
   "metadata": {},
   "source": [
    "2. JoiningDetail class has a data member DateOfJoining of type Date and a function\n",
    "getDoJ to get the Date of joining of employees"
   ]
  },
  {
   "cell_type": "code",
   "execution_count": null,
   "metadata": {},
   "outputs": [],
   "source": [
    "from datetime import date\n",
    "\n",
    "class JoiningDetail:\n",
    "    def __init__(self):\n",
    "        self.DateOfJoining = date.today()\n",
    "\n",
    "    def getDoJ(self):\n",
    "        year = int(input(\"Enter the year of joining: \"))\n",
    "        month = int(input(\"Enter the month of joining: \"))\n",
    "        day = int(input(\"Enter the day of joining: \"))\n",
    "        self.DateOfJoining = date(year, month, day)\n",
    "        \n",
    "    def disp(self):\n",
    "        print(\"Date of Joining:\", JoiningDetail.DateOfJoining)"
   ]
  },
  {
   "cell_type": "code",
   "execution_count": null,
   "metadata": {},
   "outputs": [],
   "source": [
    "joining=JoiningDetail()\n",
    "joining.getDoJ()\n",
    "joining.disp()"
   ]
  },
  {
   "cell_type": "markdown",
   "metadata": {},
   "source": [
    "3. Information Class uses the marks from Employee class and the DateOfJoining date\n",
    "from the JoiningDetail class to calculate the top 3 Employees based on their Ratings\n",
    "and then Display, using readData, all the details on these employees in Ascending\n",
    "order of their Date Of Joining."
   ]
  },
  {
   "cell_type": "code",
   "execution_count": null,
   "metadata": {},
   "outputs": [
    {
     "name": "stdout",
     "output_type": "stream",
     "text": [
      "Enter Employee ID: 87878\n",
      "Enter Gender: Male\n",
      "Enter Salary: 80000\n",
      "Enter Performance Rating (out of 5): 4\n",
      "Enter the year of joining: 2020\n",
      "Enter the month of joining: 08\n",
      "Enter the day of joining: 18\n",
      "Enter Employee ID: 5565\n",
      "Enter Gender: AMle\n",
      "Enter Salary: 9890098\n",
      "Enter Performance Rating (out of 5): 4\n",
      "Enter the year of joining: 2002\n",
      "Enter the month of joining: 09\n",
      "Enter the day of joining: 23\n",
      "Enter Employee ID: 989\n"
     ]
    }
   ],
   "source": [
    "from datetime import date\n",
    "\n",
    "class JoiningDetail:\n",
    "    def __init__(self):\n",
    "        self.DateOfJoining = date.today()\n",
    "\n",
    "    def getDoJ(self):\n",
    "        year = int(input(\"Enter the year of joining: \"))\n",
    "        month = int(input(\"Enter the month of joining: \"))\n",
    "        day = int(input(\"Enter the day of joining: \"))\n",
    "        self.DateOfJoining = date(year, month, day)\n",
    "\n",
    "class Employee:\n",
    "    def __init__(self):\n",
    "        self.EmployeeID = 0\n",
    "        self.Gender = \"\"\n",
    "        self.Salary = 0\n",
    "        self.PerformanceRating = 0\n",
    "        self.joining_detail = JoiningDetail()\n",
    "\n",
    "    def get(self):\n",
    "        self.EmployeeID = int(input(\"Enter Employee ID: \"))\n",
    "        self.Gender = input(\"Enter Gender: \")\n",
    "        self.Salary = float(input(\"Enter Salary: \"))\n",
    "        self.PerformanceRating = int(input(\"Enter Performance Rating (out of 5): \"))\n",
    "        self.joining_detail.getDoJ()\n",
    "\n",
    "class Information:\n",
    "    def __init__(self):\n",
    "        self.employees = []\n",
    "\n",
    "    def calculateTopEmployees(self):\n",
    "       \n",
    "        sorted_employees = sorted(self.employees, key=lambda x: x.PerformanceRating, reverse=True)\n",
    "        \n",
    "       \n",
    "        top_3_employees = sorted_employees[:3]\n",
    "        \n",
    "       \n",
    "        top_3_employees = sorted(top_3_employees, key=lambda x: x.joining_detail.DateOfJoining)\n",
    "\n",
    "        return top_3_employees\n",
    "\n",
    "    def readData(self):\n",
    "        for i in range(3):\n",
    "            employee = Employee()\n",
    "            employee.get()\n",
    "            self.employees.append(employee)\n",
    "\n",
    "\n",
    "info = Information()\n",
    "info.readData()\n",
    "\n",
    "\n",
    "top_3_employees = info.calculateTopEmployees()\n",
    "\n",
    "print(\"\\nTop 3 Employees:\")\n",
    "for employee in top_3_employees:\n",
    "    print(\"\\nEmployee ID:\", employee.EmployeeID)\n",
    "    print(\"Gender:\", employee.Gender)\n",
    "    print(\"Salary:\", employee.Salary)\n",
    "    print(\"Performance Rating:\", employee.PerformanceRating)\n",
    "    print(\"Date of Joining:\", employee.joining_detail.DateOfJoining)\n"
   ]
  },
  {
   "cell_type": "markdown",
   "metadata": {},
   "source": [
    "Q.2 Write a Python program to demonstrate Polymorphism.\n",
    "1. Class Vehicle with a parameterized function Fare, that takes input value as fare and\n",
    "returns it to calling Objects.\n",
    "2. Create five separate variables Bus, Car, Train, Truck and Ship that call the Fare\n",
    "function.\n",
    "3. Use a third variable TotalFare to store the sum of fare for each Vehicle Type.\n",
    "4. Print the TotalFare.\n"
   ]
  },
  {
   "cell_type": "code",
   "execution_count": null,
   "metadata": {},
   "outputs": [],
   "source": [
    "class Vehicle:\n",
    "    def __init__(self, vehicle_type):\n",
    "        self.vehicle_type = vehicle_type\n",
    "\n",
    "    def fare(self):\n",
    "        fare = float(input(f\"Enter {self.vehicle_type} Fare: \"))\n",
    "        print(f\"{self.vehicle_type} Fare: {fare}\")\n",
    "        return fare\n",
    "\n",
    "\n",
    "bus = Vehicle(\"Bus\")\n",
    "car = Vehicle(\"Car\")\n",
    "train = Vehicle(\"Train\")\n",
    "truck = Vehicle(\"Truck\")\n",
    "ship = Vehicle(\"Ship\")\n",
    "\n",
    "\n",
    "total_fare = bus.fare() + car.fare() + train.fare() + truck.fare() + ship.fare()\n",
    "\n",
    "\n",
    "print(f\"\\nTotal Fare for all vehicles: {total_fare}\")\n"
   ]
  },
  {
   "cell_type": "code",
   "execution_count": null,
   "metadata": {},
   "outputs": [],
   "source": [
    "obj=Vehicle()\n",
    "obj.total_fare"
   ]
  },
  {
   "cell_type": "code",
   "execution_count": null,
   "metadata": {},
   "outputs": [],
   "source": []
  },
  {
   "cell_type": "markdown",
   "metadata": {},
   "source": [
    "Q3. Consider an ongoing test cricket series. Following are the names of the players and their scores in the test1 and 2.\n",
    "\n",
    "Test Match 1 : Dhoni : 56 , Balaji : 94\n",
    "Test Match 2 : Balaji : 80 , Dravid : 105\n",
    "\n",
    "\n",
    "Calculate the highest number of runs scored by an individual cricketer in both of the matches.\n",
    "\n",
    "Create a python function Max_Score (M) that reads a dictionary M that recognizes the player with the highest total score. This function will return ( Top player , Total Score ) . You can consider the Top player as String who is the highest scorer and Top score as Integer .\n",
    "\n",
    "Input : Max_Score({‘test1’:{‘Dhoni’:56, ‘Balaji : 85}, ‘test2’:{‘Dhoni’ 87, ‘Balaji’’:200}})\n",
    "\n",
    "Output : (‘Balaji ‘ , 200)"
   ]
  },
  {
   "cell_type": "code",
   "execution_count": null,
   "metadata": {},
   "outputs": [],
   "source": [
    "def Max_Score(match_scores):\n",
    "    top_player = None\n",
    "    top_score = 0\n",
    "\n",
    "    for match, players in match_scores.items():\n",
    "        total_score_per_player = {player: sum(scores) for player, scores in players.items()}\n",
    "\n",
    "        match_top_player = max(total_score_per_player, key=total_score_per_player.get)\n",
    "        match_top_score = total_score_per_player[match_top_player]\n",
    "\n",
    "        if match_top_score > top_score:\n",
    "            top_player = match_top_player\n",
    "            top_score = match_top_score\n",
    "\n",
    "    return top_player, top_score\n",
    "\n",
    "\n",
    "match_scores = {\n",
    "    'test1': {'Dhoni': 56, 'Balaji': 94},\n",
    "    'test2': {'Balaji': 80, 'Dravid': 105}\n",
    "}\n",
    "\n",
    "\n",
    "result = Max_Score(match_scores)\n",
    "\n",
    "print(f\"Top Player: {result[0]}, Top Score: {result[1]}\")\n",
    "\n"
   ]
  },
  {
   "cell_type": "markdown",
   "metadata": {},
   "source": [
    "Create a simple Card game in which there are 8 cards which are randomly chosen from a\n",
    "deck. The first card is shown face up. The game asks the player to predict whether the next card\n",
    "in the selection will have a higher or lower value than the currently showing card.\n",
    "\n",
    "For example, say the card that’s shown is a 3. The player chooses “higher,” and the next card is\n",
    "shown. If that card has a higher value, the player is correct. In this example, if the player had\n",
    "chosen “lower,” they would have been incorrect. If the player guesses correctly, they get 20\n",
    "points. If they choose incorrectly, they lose 15 points. If the next card to be turned over has the\n",
    "same value as the previous card, the player is incorrect."
   ]
  },
  {
   "cell_type": "code",
   "execution_count": null,
   "metadata": {},
   "outputs": [],
   "source": [
    "import random\n",
    "\n",
    "def initialize_deck():\n",
    "    suits = ['Hearts', 'Diamonds', 'Clubs', 'Spades']\n",
    "    values = ['2', '3', '4', '5', '6', '7', '8', '9', '10', 'Jack', 'Queen', 'King', 'Ace']\n",
    "    deck = [{'value': value, 'suit': suit} for value in values for suit in suits]\n",
    "    random.shuffle(deck)\n",
    "    return deck[:8]\n",
    "\n",
    "def display_card(card):\n",
    "    print(f\"Card: {card['value']} of {card['suit']}\")\n",
    "\n",
    "def compare_cards(card1, card2):\n",
    "    value_order = ['2', '3', '4', '5', '6', '7', '8', '9', '10', 'Jack', 'Queen', 'King', 'Ace']\n",
    "    return value_order.index(card1['value']) - value_order.index(card2['value'])\n",
    "\n",
    "def main():\n",
    "    deck = initialize_deck()\n",
    "    points = 0\n",
    "\n",
    "    while len(deck) > 1:\n",
    "        current_card = deck.pop(0)\n",
    "        display_card(current_card)\n",
    "\n",
    "        guess = input(\"Will the next card be higher or lower? \").lower()\n",
    "\n",
    "        next_card = deck.pop(0)\n",
    "        display_card(next_card)\n",
    "\n",
    "        comparison_result = compare_cards(current_card, next_card)\n",
    "\n",
    "        if (guess == \"higher\" and comparison_result < 0) or (guess == \"lower\" and comparison_result > 0):\n",
    "            points += 20\n",
    "            print(\"Correct! You gained 20 points.\")\n",
    "        else:\n",
    "            points -= 15\n",
    "            print(\"Incorrect! You lost 15 points.\")\n",
    "\n",
    "    print(f\"Game over. Your final score is {points} points.\")\n",
    "\n",
    "if __name__ == \"__main__\":\n",
    "    main()\n"
   ]
  },
  {
   "cell_type": "markdown",
   "metadata": {},
   "source": [
    "Q5. Create an empty dictionary called Car_0 . Then fill the dictionary with Keys : color , speed\n",
    ", X_position and Y_position.\n",
    "car_0 = {'x_position': 10, 'y_position': 72, 'speed': 'medium'} .\n",
    "a) If the speed is slow the coordinates of the X_pos get incremented by 2.\n",
    "b) If the speed is Medium the coordinates of the X_pos gets incremented by 9\n",
    "c) Now if the speed is Fast the coordinates of the X_pos gets incremented by 22.\n",
    "Print the modified dictionary"
   ]
  },
  {
   "cell_type": "code",
   "execution_count": null,
   "metadata": {},
   "outputs": [],
   "source": [
    "\n",
    "Car_0 = {}\n",
    "\n",
    "\n",
    "Car_0['color'] = 'unknown'  \n",
    "Car_0['speed'] = 'medium'\n",
    "Car_0['x_position'] = 10\n",
    "Car_0['y_position'] = 72\n",
    "\n",
    "\n",
    "if Car_0['speed'] == 'slow':\n",
    "    Car_0['x_position'] += 2\n",
    "elif Car_0['speed'] == 'medium':\n",
    "    Car_0['x_position'] += 9\n",
    "elif Car_0['speed'] == 'fast':\n",
    "    Car_0['x_position'] += 22\n",
    "\n",
    "\n",
    "print(Car_0)\n"
   ]
  },
  {
   "cell_type": "code",
   "execution_count": null,
   "metadata": {},
   "outputs": [],
   "source": [
    "print(Car_0)"
   ]
  },
  {
   "cell_type": "markdown",
   "metadata": {},
   "source": [
    " Show a basic implementation of abstraction in python using the abstract classes.\n",
    "1. Create an abstract class in python.\n",
    "2. Implement abstraction with the other classes and base class as abstract class.\n"
   ]
  },
  {
   "cell_type": "code",
   "execution_count": null,
   "metadata": {},
   "outputs": [],
   "source": [
    "from abc import ABC, abstractmethod\n",
    "\n",
    "class abstract(ABC):\n",
    "    @abstractmethod\n",
    "    def Abstract_method(self):\n",
    "        pass\n",
    "    \n",
    "    \n",
    "class child(abstract):\n",
    "    def Abstract_method(self):\n",
    "        print('abstraction')\n",
    "        \n",
    "obj = child()\n",
    "obj.Abstract_method()"
   ]
  },
  {
   "cell_type": "markdown",
   "metadata": {},
   "source": [
    "Q7. Create a program in python to demonstrate Polymorphism.\n",
    "1. Make use of private and protected members using python name mangling techniques"
   ]
  },
  {
   "cell_type": "code",
   "execution_count": null,
   "metadata": {},
   "outputs": [],
   "source": [
    "class Rectangle:\n",
    "    def __init__(self, length, width):\n",
    "        self.length = length\n",
    "        self.width = width\n",
    "\n",
    "    def calculate_area(self):\n",
    "        return self.length * self.width\n",
    "\n",
    "class Circle:\n",
    "    def __init__(self, radius):\n",
    "        self.radius = radius\n",
    "\n",
    "    def calculate_area(self):\n",
    "        import math\n",
    "        return math.pi * self.radius**2\n",
    "\n",
    "class Triangle:\n",
    "    def __init__(self, base, height):\n",
    "        self.base = base\n",
    "        self.height = height\n",
    "\n",
    "    def calculate_area(self):\n",
    "        return 0.5 * self.base * self.height\n",
    "\n",
    "\n",
    "def print_area(shape):\n",
    "    area = shape.calculate_area()\n",
    "    print(f\"The area of the shape is: {area:.2f}\")\n",
    "\n",
    "\n",
    "rectangle = Rectangle(5, 8)\n",
    "circle = Circle(3)\n",
    "triangle = Triangle(4, 6)\n",
    "\n",
    "print_area(rectangle) \n",
    "print_area(circle)     \n",
    "print_area(triangle)  \n"
   ]
  },
  {
   "cell_type": "markdown",
   "metadata": {},
   "source": [
    "\n",
    "Q8. Given a list of 50 natural numbers from 1-50. Create a function that will take every element\n",
    "from the list and return the square of each element. Use the python map and filter methods to\n",
    "implement the function on the given list.\n"
   ]
  },
  {
   "cell_type": "code",
   "execution_count": 1,
   "metadata": {},
   "outputs": [
    {
     "name": "stdout",
     "output_type": "stream",
     "text": [
      "[1, 4, 9, 16, 25, 36, 49, 64, 81, 100, 121, 144, 169, 196, 225, 256, 289, 324, 361, 400, 441, 484, 529, 576, 625, 676, 729, 784, 841, 900, 961, 1024, 1089, 1156, 1225, 1296, 1369, 1444, 1521, 1600, 1681, 1764, 1849, 1936, 2025, 2116, 2209, 2304, 2401, 2500]\n"
     ]
    }
   ],
   "source": [
    "def square_numbers(n):\n",
    "    return n ** 2\n",
    "\n",
    "numbers = list(range(1, 51))\n",
    "\n",
    "squared_numbers = list(map(square_numbers, numbers))\n",
    "\n",
    "print(squared_numbers)\n"
   ]
  },
  {
   "cell_type": "markdown",
   "metadata": {},
   "source": [
    "Q9. Create a class, Triangle. Its init() method should take self, angle1, angle2, and angle3 as\n",
    "arguments.\n"
   ]
  },
  {
   "cell_type": "code",
   "execution_count": 2,
   "metadata": {},
   "outputs": [],
   "source": [
    "class Triangle:\n",
    "    def __init__(self, angle1, angle2, angle3):\n",
    "        self.angle1 = angle1\n",
    "        self.angle2 = angle2\n",
    "        self.angle3 = angle3"
   ]
  },
  {
   "cell_type": "code",
   "execution_count": 5,
   "metadata": {},
   "outputs": [],
   "source": [
    "triangle=Triangle(30,60,90)"
   ]
  },
  {
   "cell_type": "markdown",
   "metadata": {},
   "source": [
    "Q10. Create a class variable named number_of_sides and set it equal to 3.\n"
   ]
  },
  {
   "cell_type": "code",
   "execution_count": 6,
   "metadata": {},
   "outputs": [],
   "source": [
    "class Triangle:\n",
    "    number_of_sides = 3 \n",
    "\n",
    "    def __init__(self, angle1, angle2, angle3):\n",
    "        self.angle1 = angle1\n",
    "        self.angle2 = angle2\n",
    "        self.angle3 = angle3\n"
   ]
  },
  {
   "cell_type": "markdown",
   "metadata": {},
   "source": [
    "Q11. Create a method named check_angles. The sum of a triangle's three angles should return\n",
    "True if the sum is equal to 180, and False otherwise. The method should print whether the\n",
    "angles belong to a triangle or not."
   ]
  },
  {
   "cell_type": "code",
   "execution_count": 7,
   "metadata": {},
   "outputs": [],
   "source": [
    "class Triangle:\n",
    "    number_of_sides = 3 \n",
    "\n",
    "    def __init__(self, angle1, angle2, angle3):\n",
    "        self.angle1 = angle1\n",
    "        self.angle2 = angle2\n",
    "        self.angle3 = angle3\n",
    "\n",
    "    def check_angles(self):\n",
    "        if self.angle1 + self.angle2 + self.angle3 == 180:\n",
    "            print(\"These angles belong to a triangle.\")\n",
    "            return True\n",
    "        else:\n",
    "            print(\"These angles do not belong to a triangle.\")\n",
    "            return False"
   ]
  },
  {
   "cell_type": "markdown",
   "metadata": {},
   "source": [
    "11.1 Write methods to verify if the triangle is an acute triangle or obtuse triangle."
   ]
  },
  {
   "cell_type": "code",
   "execution_count": 8,
   "metadata": {},
   "outputs": [],
   "source": [
    "class Triangle:\n",
    "    number_of_sides = 3  \n",
    "\n",
    "    def __init__(self, angle1, angle2, angle3):\n",
    "        self.angle1 = angle1\n",
    "        self.angle2 = angle2\n",
    "        self.angle3 = angle3\n",
    "\n",
    "    def check_angles(self):\n",
    "        if self.angle1 + self.angle2 + self.angle3 == 180:\n",
    "            print(\"These angles belong to a triangle.\")\n",
    "            return True\n",
    "        else:\n",
    "            print(\"These angles do not belong to a triangle.\")\n",
    "            return False\n",
    "\n",
    "    def is_acute(self):\n",
    "        angles = [self.angle1, self.angle2, self.angle3]\n",
    "        max_angle = max(angles)\n",
    "        angles.remove(max_angle)\n",
    "        return sum(angles) < 90\n",
    "\n",
    "    def is_obtuse(self):\n",
    "        angles = [self.angle1, self.angle2, self.angle3]\n",
    "        max_angle = max(angles)\n",
    "        angles.remove(max_angle)\n",
    "        return sum(angles) > 90\n"
   ]
  },
  {
   "cell_type": "markdown",
   "metadata": {},
   "source": [
    "11.2 Create an instance of the triangle class and call all the defined methods.\n"
   ]
  },
  {
   "cell_type": "code",
   "execution_count": 10,
   "metadata": {},
   "outputs": [
    {
     "name": "stdout",
     "output_type": "stream",
     "text": [
      "Angle 1: 60\n",
      "Angle 2: 60\n",
      "Angle 3: 60\n",
      "Number of sides: 3\n",
      "These angles belong to a triangle.\n",
      "Is acute triangle: False\n",
      "Is obtuse triangle: True\n"
     ]
    }
   ],
   "source": [
    "\n",
    "triangle_example = Triangle(60, 60, 60)\n",
    "\n",
    "\n",
    "print(\"Angle 1:\", triangle_example.angle1)\n",
    "print(\"Angle 2:\", triangle_example.angle2)\n",
    "print(\"Angle 3:\", triangle_example.angle3)\n",
    "\n",
    "\n",
    "print(\"Number of sides:\", Triangle.number_of_sides)\n",
    "\n",
    "\n",
    "triangle_example.check_angles()\n",
    "\n",
    "\n",
    "print(\"Is acute triangle:\", triangle_example.is_acute())\n",
    "\n",
    "\n",
    "print(\"Is obtuse triangle:\", triangle_example.is_obtuse())\n"
   ]
  },
  {
   "cell_type": "markdown",
   "metadata": {},
   "source": [
    "11.3 Create three child classes of triangle class - isosceles_triangle, right_triangle and\n",
    "equilateral_triangle"
   ]
  },
  {
   "cell_type": "code",
   "execution_count": 11,
   "metadata": {},
   "outputs": [],
   "source": [
    "class Triangle:\n",
    "    number_of_sides = 3  # Class variable\n",
    "\n",
    "    def __init__(self, angle1, angle2, angle3):\n",
    "        self.angle1 = angle1\n",
    "        self.angle2 = angle2\n",
    "        self.angle3 = angle3\n",
    "\n",
    "    def check_angles(self):\n",
    "        if self.angle1 + self.angle2 + self.angle3 == 180:\n",
    "            print(\"These angles belong to a triangle.\")\n",
    "            return True\n",
    "        else:\n",
    "            print(\"These angles do not belong to a triangle.\")\n",
    "            return False\n",
    "\n",
    "    def is_acute(self):\n",
    "        angles = [self.angle1, self.angle2, self.angle3]\n",
    "        max_angle = max(angles)\n",
    "        angles.remove(max_angle)\n",
    "        return sum(angles) < 90\n",
    "\n",
    "    def is_obtuse(self):\n",
    "        angles = [self.angle1, self.angle2, self.angle3]\n",
    "        max_angle = max(angles)\n",
    "        angles.remove(max_angle)\n",
    "        return sum(angles) > 90\n",
    "\n",
    "\n",
    "class IsoscelesTriangle(Triangle):\n",
    "    def __init__(self, base_angle, equal_angle):\n",
    "        super().__init__(equal_angle, equal_angle, base_angle)\n",
    "        self.base_angle = base_angle\n",
    "        self.equal_angle = equal_angle\n",
    "\n",
    "    def description(self):\n",
    "        print(\"This is an isosceles triangle.\")\n",
    "\n",
    "\n",
    "class RightTriangle(Triangle):\n",
    "    def __init__(self, angle1, angle2):\n",
    "        super().__init__(angle1, angle2, 90)\n",
    "        self.angle1 = angle1\n",
    "        self.angle2 = angle2\n",
    "\n",
    "    def description(self):\n",
    "        print(\"This is a right-angled triangle.\")\n",
    "\n",
    "\n",
    "class EquilateralTriangle(Triangle):\n",
    "    def __init__(self, equal_angle):\n",
    "        super().__init__(equal_angle, equal_angle, equal_angle)\n",
    "        self.equal_angle = equal_angle\n",
    "\n",
    "    def description(self):\n",
    "        print(\"This is an equilateral triangle.\")"
   ]
  },
  {
   "cell_type": "code",
   "execution_count": 13,
   "metadata": {},
   "outputs": [
    {
     "name": "stdout",
     "output_type": "stream",
     "text": [
      "This is an isosceles triangle.\n",
      "This is a right-angled triangle.\n",
      "This is an equilateral triangle.\n"
     ]
    }
   ],
   "source": [
    "isosceles_example = IsoscelesTriangle(60, 60)\n",
    "right_example = RightTriangle(30, 60)\n",
    "equilateral_example = EquilateralTriangle(60)\n",
    "\n",
    "isosceles_example.description()\n",
    "right_example.description()\n",
    "equilateral_example.description()"
   ]
  },
  {
   "cell_type": "markdown",
   "metadata": {},
   "source": [
    "11.4 Define methods which check for their properties.\n"
   ]
  },
  {
   "cell_type": "code",
   "execution_count": 17,
   "metadata": {},
   "outputs": [],
   "source": [
    "class Triangle:\n",
    "    number_of_sides = 3  # Class variable\n",
    "\n",
    "    def __init__(self, angle1, angle2, angle3):\n",
    "        self.angle1 = angle1\n",
    "        self.angle2 = angle2\n",
    "        self.angle3 = angle3\n",
    "\n",
    "    def check_angles(self):\n",
    "        if self.angle1 + self.angle2 + self.angle3 == 180:\n",
    "            print(\"These angles belong to a triangle.\")\n",
    "            return True\n",
    "        else:\n",
    "            print(\"These angles do not belong to a triangle.\")\n",
    "            return False\n",
    "\n",
    "    def is_acute(self):\n",
    "        angles = [self.angle1, self.angle2, self.angle3]\n",
    "        max_angle = max(angles)\n",
    "        angles.remove(max_angle)\n",
    "        return sum(angles) < 90\n",
    "\n",
    "    def is_obtuse(self):\n",
    "        angles = [self.angle1, self.angle2, self.angle3]\n",
    "        max_angle = max(angles)\n",
    "        angles.remove(max_angle)\n",
    "        return sum(angles) > 90\n",
    "\n",
    "\n",
    "class IsoscelesTriangle(Triangle):\n",
    "    def __init__(self, base_angle, equal_angle):\n",
    "        super().__init__(equal_angle, equal_angle, base_angle)\n",
    "        self.base_angle = base_angle\n",
    "        self.equal_angle = equal_angle\n",
    "\n",
    "    def description(self):\n",
    "        print(\"This is an isosceles triangle.\")\n",
    "\n",
    "    def has_two_equal_sides(self):\n",
    "        return self.angle1 == self.angle2 or self.angle2 == self.angle3 or self.angle3 == self.angle1\n",
    "\n",
    "\n",
    "class RightTriangle(Triangle):\n",
    "    def __init__(self, angle1, angle2):\n",
    "        super().__init__(angle1, angle2, 90)\n",
    "        self.angle1 = angle1\n",
    "        self.angle2 = angle2\n",
    "\n",
    "    def description(self):\n",
    "        print(\"This is a right-angled triangle.\")\n",
    "\n",
    "    def has_right_angle(self):\n",
    "        return 90 in [self.angle1, self.angle2, self.angle3]\n",
    "\n",
    "\n",
    "class EquilateralTriangle(Triangle):\n",
    "    def __init__(self, equal_angle):\n",
    "        super().__init__(equal_angle, equal_angle, equal_angle)\n",
    "        self.equal_angle = equal_angle\n",
    "\n",
    "    def description(self):\n",
    "        print(\"This is an equilateral triangle.\")\n",
    "\n",
    "    def has_equal_sides(self):\n",
    "        return self.angle1 == self.angle2 and self.angle2 == self"
   ]
  },
  {
   "cell_type": "code",
   "execution_count": 18,
   "metadata": {},
   "outputs": [
    {
     "name": "stdout",
     "output_type": "stream",
     "text": [
      "This is an isosceles triangle.\n",
      "Has two equal sides: True\n",
      "This is a right-angled triangle.\n",
      "Has a right angle: True\n",
      "This is an equilateral triangle.\n",
      "Has equal sides: False\n"
     ]
    }
   ],
   "source": [
    "isosceles_example = IsoscelesTriangle(60, 60)\n",
    "right_example = RightTriangle(30, 60)\n",
    "equilateral_example = EquilateralTriangle(60)\n",
    "\n",
    "isosceles_example.description()\n",
    "print(\"Has two equal sides:\", isosceles_example.has_two_equal_sides())\n",
    "\n",
    "right_example.description()\n",
    "print(\"Has a right angle:\", right_example.has_right_angle())\n",
    "\n",
    "equilateral_example.description()\n",
    "print(\"Has equal sides:\", equilateral_example.has_equal_sides())"
   ]
  },
  {
   "cell_type": "markdown",
   "metadata": {},
   "source": [
    "Q12. Create a class isosceles_right_triangle which inherits from isosceles_triangle and\n",
    "right_triangle"
   ]
  },
  {
   "cell_type": "code",
   "execution_count": 27,
   "metadata": {},
   "outputs": [],
   "source": [
    "class IsoscelesRightTriangle(IsoscelesTriangle, RightTriangle):\n",
    "    def __init__(self, equal_angle):\n",
    "       \n",
    "        super(RightTriangle, self).__init__(90, equal_angle)\n",
    "\n",
    "    def description(self):\n",
    "        print(\"This is an isosceles right-angled triangle.\")\n",
    "\n",
    "\n"
   ]
  },
  {
   "cell_type": "markdown",
   "metadata": {},
   "source": [
    "12.1 Define methods which check for their properties."
   ]
  },
  {
   "cell_type": "code",
   "execution_count": 32,
   "metadata": {},
   "outputs": [],
   "source": [
    "class IsoscelesRightTriangle(IsoscelesTriangle, RightTriangle):\n",
    "    def __init__(self, equal_angle):\n",
    "        \n",
    "        super(RightTriangle, self).__init__(90, equal_angle)\n",
    "\n",
    "    def description(self):\n",
    "        print(\"This is an isosceles right-angled triangle.\")\n",
    "\n",
    "    def has_two_equal_sides(self):\n",
    "        \n",
    "        return self.angle1 == self.angle2 or self.angle2 == self.angle3 or self.angle3 == self.angle1\n",
    "\n",
    "    def has_right_angle(self):\n",
    "        \n",
    "        return 90 in [self.angle1, self.angle2, self.angle3]\n",
    "\n",
    "    def is_isosceles_right_triangle(self):\n",
    "       \n",
    "        return self.has_two_equal_sides() and self.has_right_angle()"
   ]
  },
  {
   "cell_type": "code",
   "execution_count": 38,
   "metadata": {},
   "outputs": [],
   "source": [
    "class IsoscelesRightTriangle(IsoscelesTriangle, RightTriangle):\n",
    "    def __init__(self, equal_angle):\n",
    "     \n",
    "    \n",
    "        IsoscelesTriangle.__init__(self, 45, equal_angle)\n",
    "\n",
    "       \n",
    "        RightTriangle.__init__(self, 45, 180 - 90 - equal_angle)\n",
    "\n",
    "    def description(self):\n",
    "        print(\"This is an isosceles right-angled triangle.\")\n",
    "\n",
    "    def is_isosceles_right_triangle(self):\n",
    "        return self.has_two_equal_sides() and self.has_right_angle()\n",
    "\n"
   ]
  },
  {
   "cell_type": "code",
   "execution_count": null,
   "metadata": {},
   "outputs": [],
   "source": []
  },
  {
   "cell_type": "code",
   "execution_count": null,
   "metadata": {},
   "outputs": [],
   "source": []
  }
 ],
 "metadata": {
  "kernelspec": {
   "display_name": "Python 3",
   "language": "python",
   "name": "python3"
  },
  "language_info": {
   "codemirror_mode": {
    "name": "ipython",
    "version": 3
   },
   "file_extension": ".py",
   "mimetype": "text/x-python",
   "name": "python",
   "nbconvert_exporter": "python",
   "pygments_lexer": "ipython3",
   "version": "3.7.1"
  }
 },
 "nbformat": 4,
 "nbformat_minor": 4
}
